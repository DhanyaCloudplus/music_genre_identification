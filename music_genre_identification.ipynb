{
  "cells": [
    {
      "cell_type": "code",
      "execution_count": 7,
      "metadata": {
        "id": "CIVKSt981P8R"
      },
      "outputs": [],
      "source": [
        "import os\n",
        "import librosa\n",
        "import numpy as np\n",
        "import tensorflow as tf\n",
        "from tensorflow import keras\n",
        "from sklearn.model_selection import train_test_split\n",
        "from sklearn.preprocessing import LabelEncoder"
      ]
    },
    {
      "cell_type": "code",
      "execution_count": 8,
      "metadata": {
        "colab": {
          "base_uri": "https://localhost:8080/"
        },
        "id": "FYlOsuAJfzP7",
        "outputId": "1a4df05c-e9a3-4126-a350-b172f0322fc6"
      },
      "outputs": [
        {
          "output_type": "stream",
          "name": "stdout",
          "text": [
            "Drive already mounted at /content/drive; to attempt to forcibly remount, call drive.mount(\"/content/drive\", force_remount=True).\n"
          ]
        }
      ],
      "source": [
        "from google.colab import drive\n",
        "drive.mount('/content/drive')"
      ]
    },
    {
      "cell_type": "code",
      "execution_count": 10,
      "metadata": {
        "id": "Ha7bYhYb1cQz"
      },
      "outputs": [],
      "source": [
        "dataset_path = '/content/drive/My Drive/Music Genre Identification/genres/'"
      ]
    },
    {
      "cell_type": "code",
      "execution_count": 11,
      "metadata": {
        "id": "lwPoWbJG1qjz"
      },
      "outputs": [],
      "source": [
        "genres = ['metal', 'pop', 'reggae', 'rock','blues', 'classical', 'country', 'disco', 'hiphop', 'jazz' ]"
      ]
    },
    {
      "cell_type": "code",
      "execution_count": 12,
      "metadata": {
        "id": "pLewPYd131JA"
      },
      "outputs": [],
      "source": [
        "\n",
        "def extract_features(dataset_path):\n",
        "    audio, sr = librosa.load(file_path, sr=None)\n",
        "    mfcc = librosa.feature.mfcc(y=audio, sr=sr, n_mfcc=13)\n",
        "    chroma = librosa.feature.chroma_stft(y=audio, sr=sr)\n",
        "    mel = librosa.feature.melspectrogram(y=audio, sr=sr)\n",
        "    contrast = librosa.feature.spectral_contrast(y=audio, sr=sr)\n",
        "    tonnetz = librosa.feature.tonnetz(y=librosa.effects.harmonic(audio), sr=sr)\n",
        "\n",
        "    return np.hstack([np.mean(mfcc.T, axis=0), np.mean(chroma.T, axis=0), np.mean(mel.T, axis=0),\n",
        "                      np.mean(contrast.T, axis=0), np.mean(tonnetz.T, axis=0)])\n"
      ]
    },
    {
      "cell_type": "code",
      "execution_count": 13,
      "metadata": {
        "id": "TA5ohKkH1vzV"
      },
      "outputs": [],
      "source": [
        "X = []\n",
        "y = []\n",
        "\n",
        "for genre in genres:\n",
        "    genre_path = os.path.join(dataset_path, genre)\n",
        "    for filename in os.listdir(genre_path):\n",
        "        if filename.endswith('.au'):\n",
        "            file_path = os.path.join(genre_path, filename)\n",
        "            y.append(genre)\n",
        "            features = extract_features(dataset_path)\n",
        "            X.append(features)"
      ]
    },
    {
      "cell_type": "code",
      "execution_count": 15,
      "metadata": {
        "id": "UzjT5DaG12U_"
      },
      "outputs": [],
      "source": [
        "X = np.array(X)\n",
        "y = np.array(y)"
      ]
    },
    {
      "cell_type": "code",
      "execution_count": 16,
      "metadata": {
        "id": "-uxI4bW-2uDZ"
      },
      "outputs": [],
      "source": [
        "label_encoder = LabelEncoder()\n",
        "y = label_encoder.fit_transform(y)"
      ]
    },
    {
      "cell_type": "code",
      "execution_count": 17,
      "metadata": {
        "id": "6J24ken82whW"
      },
      "outputs": [],
      "source": [
        "X_train, X_test, y_train, y_test = train_test_split(X, y, test_size=0.2, random_state=42)"
      ]
    },
    {
      "cell_type": "code",
      "execution_count": 18,
      "metadata": {
        "id": "cszajCmL203c"
      },
      "outputs": [],
      "source": [
        "def create_model():\n",
        "    model = keras.Sequential([\n",
        "        keras.layers.Dense(1024, activation='relu', input_shape=(X_train.shape[1],)),\n",
        "        keras.layers.BatchNormalization(),\n",
        "        keras.layers.Dropout(0.4),\n",
        "        keras.layers.Dense(512, activation='relu'),\n",
        "        keras.layers.BatchNormalization(),\n",
        "        keras.layers.Dropout(0.4),\n",
        "        keras.layers.Dense(256, activation='relu'),\n",
        "        keras.layers.Dense(len(genres), activation='softmax')\n",
        "    ])\n",
        "\n",
        "    model.compile(optimizer=keras.optimizers.Adam(learning_rate=0.0001),\n",
        "                  loss='sparse_categorical_crossentropy',\n",
        "                  metrics=['accuracy'])\n",
        "\n",
        "    return model"
      ]
    },
    {
      "cell_type": "code",
      "execution_count": 19,
      "metadata": {
        "id": "EI9LrTDg23RX",
        "colab": {
          "base_uri": "https://localhost:8080/"
        },
        "outputId": "a71fc8ec-6dea-47cd-cc2b-46734b580121"
      },
      "outputs": [
        {
          "output_type": "stream",
          "name": "stderr",
          "text": [
            "/usr/local/lib/python3.10/dist-packages/keras/src/layers/core/dense.py:87: UserWarning: Do not pass an `input_shape`/`input_dim` argument to a layer. When using Sequential models, prefer using an `Input(shape)` object as the first layer in the model instead.\n",
            "  super().__init__(activity_regularizer=activity_regularizer, **kwargs)\n"
          ]
        }
      ],
      "source": [
        "n_models = 3\n",
        "models = []\n",
        "\n",
        "for i in range(n_models):\n",
        "    model = create_model()\n",
        "    model.fit(X_train, y_train, epochs=450, batch_size=16, validation_data=(X_test, y_test), verbose=0)\n",
        "    models.append(model)"
      ]
    },
    {
      "cell_type": "code",
      "execution_count": 20,
      "metadata": {
        "id": "SuHLKZ_52-c1",
        "colab": {
          "base_uri": "https://localhost:8080/"
        },
        "outputId": "41ecfb74-7afd-464f-d956-a1674d8c6886"
      },
      "outputs": [
        {
          "output_type": "stream",
          "name": "stdout",
          "text": [
            "\u001b[1m7/7\u001b[0m \u001b[32m━━━━━━━━━━━━━━━━━━━━\u001b[0m\u001b[37m\u001b[0m \u001b[1m0s\u001b[0m 18ms/step\n",
            "\u001b[1m7/7\u001b[0m \u001b[32m━━━━━━━━━━━━━━━━━━━━\u001b[0m\u001b[37m\u001b[0m \u001b[1m0s\u001b[0m 18ms/step\n"
          ]
        },
        {
          "output_type": "stream",
          "name": "stderr",
          "text": [
            "WARNING:tensorflow:5 out of the last 15 calls to <function TensorFlowTrainer.make_predict_function.<locals>.one_step_on_data_distributed at 0x7bf218f1fa30> triggered tf.function retracing. Tracing is expensive and the excessive number of tracings could be due to (1) creating @tf.function repeatedly in a loop, (2) passing tensors with different shapes, (3) passing Python objects instead of tensors. For (1), please define your @tf.function outside of the loop. For (2), @tf.function has reduce_retracing=True option that can avoid unnecessary retracing. For (3), please refer to https://www.tensorflow.org/guide/function#controlling_retracing and https://www.tensorflow.org/api_docs/python/tf/function for  more details.\n"
          ]
        },
        {
          "output_type": "stream",
          "name": "stdout",
          "text": [
            "\u001b[1m7/7\u001b[0m \u001b[32m━━━━━━━━━━━━━━━━━━━━\u001b[0m\u001b[37m\u001b[0m \u001b[1m0s\u001b[0m 19ms/step\n"
          ]
        }
      ],
      "source": [
        "from sklearn.metrics import accuracy_score\n",
        "def ensemble_predictions(models, X_test):\n",
        "    predictions = [model.predict(X_test) for model in models]\n",
        "    avg_predictions = np.mean(predictions, axis=0)\n",
        "    return np.argmax(avg_predictions, axis=1)\n",
        "\n",
        "\n",
        "y_pred = ensemble_predictions(models, X_test)"
      ]
    },
    {
      "cell_type": "code",
      "execution_count": 21,
      "metadata": {
        "id": "PnDASHnh3HcS",
        "colab": {
          "base_uri": "https://localhost:8080/"
        },
        "outputId": "18d46519-fa1a-405f-8b94-466476a45b9f"
      },
      "outputs": [
        {
          "output_type": "stream",
          "name": "stdout",
          "text": [
            "Ensemble accuracy: 0.675\n"
          ]
        }
      ],
      "source": [
        "from sklearn.metrics import accuracy_score\n",
        "ensemble_accuracy = accuracy_score(y_test, y_pred)\n",
        "print(f'Ensemble accuracy: {ensemble_accuracy}')"
      ]
    },
    {
      "cell_type": "code",
      "source": [
        "# Save the trained model to Google Drive for future use\n",
        "model_save_path = '/content/drive/My Drive/Music Genre Identification/Music_Genre_Identification_model.keras'\n",
        "model.save(model_save_path)"
      ],
      "metadata": {
        "id": "JK9e_6SjSDQM"
      },
      "execution_count": 22,
      "outputs": []
    }
  ],
  "metadata": {
    "colab": {
      "provenance": []
    },
    "kernelspec": {
      "display_name": "Python 3",
      "name": "python3"
    },
    "language_info": {
      "name": "python"
    }
  },
  "nbformat": 4,
  "nbformat_minor": 0
}